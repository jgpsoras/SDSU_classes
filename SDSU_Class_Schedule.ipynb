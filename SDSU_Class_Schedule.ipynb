{
 "cells": [
  {
   "cell_type": "markdown",
   "id": "6ee289aa-004c-4747-8e17-7c11ac204ff1",
   "metadata": {},
   "source": [
    "# SDSU Data"
   ]
  },
  {
   "cell_type": "markdown",
   "id": "45e656f8-e0d0-46e3-8232-dea821620447",
   "metadata": {},
   "source": [
    "This Jupyter notebook uses Python and SQLite to take an excel file of a list of Mechanical Engineering classes at SDSU, and creates an SQL database which has separate tables for each instance of Class, Location, and Time, and links them all together in an overall Schedule table. The database is then queried with various requests.\n",
    "\n",
    "The excel file is in the Github repository. Data source: https://sunspot.sdsu.edu/schedule/search?mode=search&abbrev=M%20E"
   ]
  },
  {
   "cell_type": "code",
   "execution_count": 1,
   "id": "05438f15-da58-495d-9c1a-99bae66ec2bc",
   "metadata": {},
   "outputs": [],
   "source": [
    "import numpy as np\n",
    "import pandas as pd\n",
    "import sqlite3"
   ]
  },
  {
   "cell_type": "markdown",
   "id": "9308e9b7-078b-4f6f-8dbb-36c9486472d5",
   "metadata": {},
   "source": [
    "First, read the excel file into the Pandas DataFrame."
   ]
  },
  {
   "cell_type": "code",
   "execution_count": 2,
   "id": "f4e98aa5-7c3e-48ac-b778-6b10f7791cad",
   "metadata": {},
   "outputs": [],
   "source": [
    "df = pd.read_excel(io='SDSU_mech_eng_classes.xlsx', header=1)"
   ]
  },
  {
   "cell_type": "code",
   "execution_count": 3,
   "id": "ae55e4f5",
   "metadata": {},
   "outputs": [
    {
     "name": "stdout",
     "output_type": "stream",
     "text": [
      "<class 'pandas.core.frame.DataFrame'>\n",
      "RangeIndex: 96 entries, 0 to 95\n",
      "Data columns (total 26 columns):\n",
      " #   Column          Non-Null Count  Dtype  \n",
      "---  ------          --------------  -----  \n",
      " 0   Department      96 non-null     object \n",
      " 1   Subject         96 non-null     object \n",
      " 2   Course #        96 non-null     int64  \n",
      " 3   Suffix          13 non-null     object \n",
      " 4   Catalog #       0 non-null      float64\n",
      " 5   Title           96 non-null     object \n",
      " 6   Section         96 non-null     int64  \n",
      " 7   Schedule #      96 non-null     object \n",
      " 8   Units           96 non-null     int64  \n",
      " 9   Session         96 non-null     object \n",
      " 10  Seats           96 non-null     int64  \n",
      " 11  Available       96 non-null     int64  \n",
      " 12  Total Enrolled  96 non-null     int64  \n",
      " 13  Blocked         0 non-null      float64\n",
      " 14  Footnotes       89 non-null     object \n",
      " 15  SDSU Enrolled   0 non-null      float64\n",
      " 16  EE Enrolled     0 non-null      float64\n",
      " 17  SDSU Audit      0 non-null      float64\n",
      " 18  EE Audit        0 non-null      float64\n",
      " 19  Meeting Type    96 non-null     object \n",
      " 20  Building        84 non-null     object \n",
      " 21  Room            84 non-null     float64\n",
      " 22  Start Time      84 non-null     float64\n",
      " 23  End Time        84 non-null     float64\n",
      " 24  Days            96 non-null     object \n",
      " 25  Instructor      96 non-null     object \n",
      "dtypes: float64(9), int64(6), object(11)\n",
      "memory usage: 19.6+ KB\n",
      "None\n"
     ]
    }
   ],
   "source": [
    "print(df.info())"
   ]
  },
  {
   "cell_type": "code",
   "execution_count": 4,
   "id": "b260df52",
   "metadata": {},
   "outputs": [
    {
     "name": "stdout",
     "output_type": "stream",
     "text": [
      "<class 'pandas.core.frame.DataFrame'>\n",
      "RangeIndex: 96 entries, 0 to 95\n",
      "Data columns (total 20 columns):\n",
      " #   Column          Non-Null Count  Dtype  \n",
      "---  ------          --------------  -----  \n",
      " 0   Department      96 non-null     object \n",
      " 1   Subject         96 non-null     object \n",
      " 2   Course #        96 non-null     int64  \n",
      " 3   Suffix          13 non-null     object \n",
      " 4   Title           96 non-null     object \n",
      " 5   Section         96 non-null     int64  \n",
      " 6   Schedule #      96 non-null     object \n",
      " 7   Units           96 non-null     int64  \n",
      " 8   Session         96 non-null     object \n",
      " 9   Seats           96 non-null     int64  \n",
      " 10  Available       96 non-null     int64  \n",
      " 11  Total Enrolled  96 non-null     int64  \n",
      " 12  Footnotes       89 non-null     object \n",
      " 13  Meeting Type    96 non-null     object \n",
      " 14  Building        84 non-null     object \n",
      " 15  Room            84 non-null     float64\n",
      " 16  Start Time      84 non-null     float64\n",
      " 17  End Time        84 non-null     float64\n",
      " 18  Days            96 non-null     object \n",
      " 19  Instructor      96 non-null     object \n",
      "dtypes: float64(3), int64(6), object(11)\n",
      "memory usage: 15.1+ KB\n",
      "None\n"
     ]
    }
   ],
   "source": [
    "df = df.drop(['Catalog #', 'Blocked', 'SDSU Enrolled', 'EE Enrolled', 'SDSU Audit', 'EE Audit'], axis=1)\n",
    "print(df.info())"
   ]
  },
  {
   "cell_type": "markdown",
   "id": "9eee8efd",
   "metadata": {},
   "source": [
    "Using this DataFrame, we can make a SQL relational database as shown in the below image (created with Lucidchart). There are separate tables for each specific Class, Location, and Time, and a connector table called Schedule to combine all instances."
   ]
  },
  {
   "attachments": {
    "SDSU_schedule_ERD.PNG": {
     "image/png": "[encoded data removed]"
    }
   },
   "cell_type": "markdown",
   "id": "75aff81d",
   "metadata": {},
   "source": [
    "![SDSU_schedule_ERD.PNG](attachment:SDSU_schedule_ERD.PNG)"
   ]
  },
  {
   "cell_type": "markdown",
   "id": "3f7e122e-f6b6-45ca-b6e9-7b4d80c2c988",
   "metadata": {},
   "source": [
    "Connecting Python to SQLite."
   ]
  },
  {
   "cell_type": "code",
   "execution_count": 5,
   "id": "1896c151",
   "metadata": {},
   "outputs": [],
   "source": [
    "sqlite3.register_adapter(np.int64, lambda val: int(val))\n",
    "con = sqlite3.connect(\"SDSU_mech_eng_classes.sqlite\")\n",
    "cur = con.cursor()"
   ]
  },
  {
   "cell_type": "markdown",
   "id": "e53bfbbb-a885-425b-9407-4f3b125eaa1e",
   "metadata": {},
   "source": [
    "Creating each of the tables by passing SQL to the SQLite browser."
   ]
  },
  {
   "cell_type": "code",
   "execution_count": 6,
   "id": "d49e2971",
   "metadata": {},
   "outputs": [
    {
     "data": {
      "text/plain": [
       "<sqlite3.Cursor at 0x10491d50>"
      ]
     },
     "execution_count": 6,
     "metadata": {},
     "output_type": "execute_result"
    }
   ],
   "source": [
    "cur.execute('DROP TABLE IF EXISTS Class')\n",
    "cur.execute('DROP TABLE IF EXISTS Location')\n",
    "cur.execute('DROP TABLE IF EXISTS Time')\n",
    "cur.execute('DROP TABLE IF EXISTS Schedule')\n",
    "\n",
    "cur.execute('''CREATE TABLE Class (id INTEGER NOT NULL PRIMARY KEY AUTOINCREMENT UNIQUE, Title TEXT, Subject TEXT, Department TEXT, \n",
    "                                  CourseNum INTEGER, Units INTEGER, Session TEXT, Suffix TEXT)''')\n",
    "cur.execute('''CREATE TABLE Location (id INTEGER NOT NULL PRIMARY KEY AUTOINCREMENT UNIQUE, Building TEXT, Room INTEGER, \n",
    "                                      MeetingType TEXT)''')\n",
    "cur.execute('''CREATE TABLE Time (id INTEGER NOT NULL PRIMARY KEY AUTOINCREMENT UNIQUE, StartTime INTEGER, \n",
    "                                  EndTime INTEGER, Days TEXT)''')\n",
    "cur.execute('''CREATE TABLE Schedule (id INTEGER NOT NULL PRIMARY KEY AUTOINCREMENT UNIQUE, Class_id INTEGER, Location_id INTEGER, \n",
    "                                      Time_id INTEGER, Section INTEGER, Seats INTEGER, Available INTEGER, TotalEnrolled INTEGER, \n",
    "                                     Instructor TEXT, ScheduleNum TEXT, Footnotes TEXT)''')\n"
   ]
  },
  {
   "cell_type": "markdown",
   "id": "9ce42e83-9ded-4641-b6cf-c1aecfd2fdf5",
   "metadata": {},
   "source": [
    "Next, we step through each row of the Pandas DataFrame and add the info to the SQLite tables. For the Class, Time, and Location tables, if the specific instance already exists, it does not get added again. The Schedule connector table is created using the foreign keys of the Class, Time, and Location tables."
   ]
  },
  {
   "cell_type": "code",
   "execution_count": 7,
   "id": "b8808721",
   "metadata": {},
   "outputs": [],
   "source": [
    "for i in range(len(df)):\n",
    "    \n",
    "    # Pulls the data from the columns for the Class table\n",
    "    tup =  tuple(df[['Title','Subject','Department','Course #','Units','Session','Suffix']].iloc[i].to_list())\n",
    "    cur.execute('''SELECT id FROM Class WHERE Title=? AND Subject=? AND Department=? AND CourseNum=? AND Units=? AND \n",
    "                                              Session=? AND (Suffix=? OR SUFFIX IS NULL)''', tup) \n",
    "    # If a Class comes back with the SELECT, we grab its index (id) number for use when we populate the Schedule table.\n",
    "    # If it comes back as None, then we add the new Class.\n",
    "    Class_id = cur.fetchone()\n",
    "    if Class_id is not None:\n",
    "        Class_id = Class_id[0]\n",
    "    else:\n",
    "        cur.execute('''INSERT INTO Class (Title, Subject, Department, CourseNum, Units, Session, Suffix)\n",
    "                       VALUES (?,?,?,?,?,?,?)''', tup)\n",
    "        con.commit()\n",
    "        cur.execute('''SELECT id FROM Class WHERE Title=? AND Subject=? AND Department=? AND CourseNum=? AND Units=? AND \n",
    "                                                   Session=? AND (Suffix=? OR SUFFIX IS NULL)''', tup) \n",
    "        Class_id = cur.fetchone()[0]\n",
    "\n",
    "    \n",
    "    # This does the same thing, but for the Location table\n",
    "    tup =  tuple(df[['Building','Room','Meeting Type']].iloc[i].to_list())\n",
    "    cur.execute('''SELECT id FROM Location WHERE (Building=? OR Building IS NULL) AND (Room=? OR Room IS NULL) AND \n",
    "                                                   MeetingType=?''', tup) \n",
    "    Location_id = cur.fetchone()\n",
    "    if Location_id is not None:\n",
    "        Location_id = Location_id[0]\n",
    "    else:\n",
    "        cur.execute('''INSERT INTO Location (Building, Room, MeetingType) VALUES (?,?,?)''', tup)\n",
    "        con.commit()\n",
    "        cur.execute('''SELECT id FROM Location WHERE (Building=? OR Building IS NULL) AND (Room=? OR Room IS NULL) AND \n",
    "                                                    MeetingType=?''', tup) \n",
    "        Location_id = cur.fetchone()[0]\n",
    "    \n",
    "    # This does the same thing, but for the Time table\n",
    "    tup =  tuple(df[['Start Time','End Time','Days']].iloc[i].to_list())\n",
    "    cur.execute('''SELECT id FROM Time WHERE (StartTime=? OR StartTime IS NULL) AND \n",
    "                                             (EndTime=? OR EndTime IS NULL) AND Days=?''', tup) \n",
    "    Time_id = cur.fetchone()\n",
    "    if Time_id is not None:\n",
    "        Time_id = Time_id[0]\n",
    "    else:\n",
    "        cur.execute('''INSERT INTO Time (StartTime, EndTime, Days) VALUES (?,?,?)''', tup)\n",
    "        con.commit()\n",
    "        cur.execute('''SELECT id FROM Time WHERE (StartTime=? OR StartTime IS NULL) AND \n",
    "                                                (EndTime=? OR EndTime IS NULL) AND Days=?''', tup) \n",
    "        Time_id = cur.fetchone()[0]\n",
    "        \n",
    "        \n",
    "    # Now we fill in the Schedule table, using the foreign keys we just gathered for Class_id, Location_id, and Time_id\n",
    "    foreign_keys = [Class_id, Location_id, Time_id]\n",
    "    schedule_data = df[['Section','Seats','Available','Total Enrolled','Instructor','Schedule #','Footnotes']].iloc[i].to_list()\n",
    "    foreign_keys.extend(schedule_data)\n",
    "    tup = tuple(foreign_keys)\n",
    "    cur.execute('''INSERT INTO Schedule (Class_id, Location_id, Time_id, Section, Seats, Available, TotalEnrolled, Instructor, \n",
    "                                         ScheduleNum, Footnotes) VALUES (?,?,?,?,?,?,?,?,?,?)''', tup)\n",
    "    con.commit()        \n",
    "        \n",
    "        \n",
    "        "
   ]
  },
  {
   "cell_type": "markdown",
   "id": "46ef7660",
   "metadata": {},
   "source": [
    "Now we can query the database for any type of search using the JOIN keyword.\n",
    "Here we search for all the options for the class \"MECH & THERMAL SYS LAB\".\n",
    "We can see that the last two classes are fully filled up with 0 seats remaining, since the \"Available\" column is 0."
   ]
  },
  {
   "cell_type": "code",
   "execution_count": 8,
   "id": "afc74fd7",
   "metadata": {},
   "outputs": [
    {
     "data": {
      "text/plain": [
       "[('MECH & THERMAL SYS LAB', 'EIS', 1000, 'M', 'H. NOURALLAHI', 3),\n",
       " ('MECH & THERMAL SYS LAB', 'EIS', 1100, 'M', 'H. NOURALLAHI', 3),\n",
       " ('MECH & THERMAL SYS LAB', 'EIS', 1000, 'W', 'H. NOURALLAHI', 0),\n",
       " ('MECH & THERMAL SYS LAB', 'EIS', 1100, 'W', 'H. NOURALLAHI', 0)]"
      ]
     },
     "execution_count": 8,
     "metadata": {},
     "output_type": "execute_result"
    }
   ],
   "source": [
    "cur.execute('''SELECT Class.Title, Location.Building, Time.StartTime, Time.Days, Schedule.Instructor, Schedule.Available\n",
    "            FROM Schedule JOIN Class JOIN Location JOIN Time \n",
    "            ON Class_id = Class.id AND Location_id = Location.id AND Time_id = Time.id\n",
    "            WHERE Class.Title = ?''', ('MECH & THERMAL SYS LAB',))\n",
    "cur.fetchall()"
   ]
  },
  {
   "cell_type": "markdown",
   "id": "06815733",
   "metadata": {},
   "source": [
    "Lets count and see how many classes are fully filled up with 0 seats remaining, and how many classes are still available."
   ]
  },
  {
   "cell_type": "code",
   "execution_count": 9,
   "id": "3ef159f1",
   "metadata": {},
   "outputs": [
    {
     "name": "stdout",
     "output_type": "stream",
     "text": [
      "There are 27 classes that are fully filled.\n",
      "There are 69 classes that are still available.\n"
     ]
    }
   ],
   "source": [
    "cur.execute('SELECT COUNT(*) FROM Schedule WHERE Available <= 0')\n",
    "x = cur.fetchall()\n",
    "print('There are ' + str(x[0][0]) + ' classes that are fully filled.')\n",
    "cur.execute('SELECT COUNT(*) FROM Schedule WHERE Available > 0')\n",
    "x = cur.fetchall()\n",
    "print('There are ' + str(x[0][0]) + ' classes that are still available.')"
   ]
  },
  {
   "cell_type": "markdown",
   "id": "4671b625",
   "metadata": {},
   "source": [
    "Lets remove all of the classes that are fully filled since we can't enroll in them."
   ]
  },
  {
   "cell_type": "code",
   "execution_count": 10,
   "id": "e3d7daef",
   "metadata": {},
   "outputs": [],
   "source": [
    "cur.execute('DELETE FROM Schedule WHERE Available <= 0')\n",
    "con.commit()"
   ]
  },
  {
   "cell_type": "markdown",
   "id": "43c0de63",
   "metadata": {},
   "source": [
    "Now we can do the original query for class \"MECH & THERMAL SYS LAB\", and see that only 2 show up now."
   ]
  },
  {
   "cell_type": "code",
   "execution_count": 11,
   "id": "c5e78ae5",
   "metadata": {},
   "outputs": [
    {
     "data": {
      "text/plain": [
       "[('MECH & THERMAL SYS LAB', 'EIS', 1000, 'M', 'H. NOURALLAHI', 3),\n",
       " ('MECH & THERMAL SYS LAB', 'EIS', 1100, 'M', 'H. NOURALLAHI', 3)]"
      ]
     },
     "execution_count": 11,
     "metadata": {},
     "output_type": "execute_result"
    }
   ],
   "source": [
    "cur.execute('''SELECT Class.Title, Location.Building, Time.StartTime, Time.Days, Schedule.Instructor, Schedule.Available\n",
    "            FROM Schedule JOIN Class JOIN Location JOIN Time \n",
    "            ON Class_id = Class.id AND Location_id = Location.id AND Time_id = Time.id\n",
    "            WHERE Class.Title = ?''', ('MECH & THERMAL SYS LAB',))\n",
    "cur.fetchall()"
   ]
  },
  {
   "cell_type": "markdown",
   "id": "5b259cc0",
   "metadata": {},
   "source": [
    "Lets say you want your early class (9AM or earlier) to be at building E, which is closest to you."
   ]
  },
  {
   "cell_type": "code",
   "execution_count": 12,
   "id": "e7db5df0",
   "metadata": {},
   "outputs": [
    {
     "data": {
      "text/plain": [
       "[('COMPUTER-AIDED DESIGN', 800, 'E'),\n",
       " ('COMPUTER-AIDED DESIGN', 900, 'E'),\n",
       " ('COMPUTER-AIDED DESIGN', 800, 'E'),\n",
       " ('COMPUTER-AIDED DESIGN', 800, 'E'),\n",
       " ('COMPUTER-AIDED DESIGN', 900, 'E'),\n",
       " ('MECHATRONICS LABORATORY', 800, 'E'),\n",
       " ('ENRGY& THRM SYS ANAL/DSGN', 800, 'E'),\n",
       " ('FUNDAMENTALS OF NANOBIO', 800, 'E')]"
      ]
     },
     "execution_count": 12,
     "metadata": {},
     "output_type": "execute_result"
    }
   ],
   "source": [
    "cur.execute('''SELECT Class.Title, Time.StartTime, Location.Building\n",
    "            FROM Schedule JOIN Class JOIN Location JOIN Time \n",
    "            ON Class_id = Class.id AND Location_id = Location.id AND Time_id = Time.id\n",
    "            WHERE StartTime <= 900 AND Building = ?''', ('E',))\n",
    "cur.fetchall()"
   ]
  },
  {
   "cell_type": "markdown",
   "id": "14d6ef7e",
   "metadata": {},
   "source": [
    "Or if you want to see all the classes that your favorite teacher C. SAGHAFI is teaching that aren't on Fridays."
   ]
  },
  {
   "cell_type": "code",
   "execution_count": 13,
   "id": "b85ba898",
   "metadata": {},
   "outputs": [
    {
     "data": {
      "text/plain": [
       "[('COMPUTER-AIDED DESIGN', 'C. SAGHAFI', 'M'),\n",
       " ('COMPUTER-AIDED DESIGN', 'C. SAGHAFI', 'M'),\n",
       " ('COMPUTER-AIDED DESIGN', 'C. SAGHAFI', 'W'),\n",
       " ('COMPUTER-AIDED DESIGN', 'C. SAGHAFI', 'W'),\n",
       " ('COMPUTER-AIDED DESIGN', 'C. SAGHAFI', 'M'),\n",
       " ('COMPUTER-AIDED DESIGN', 'C. SAGHAFI', 'M')]"
      ]
     },
     "execution_count": 13,
     "metadata": {},
     "output_type": "execute_result"
    }
   ],
   "source": [
    "cur.execute('''SELECT Class.Title, Schedule.Instructor, Time.Days\n",
    "            FROM Schedule JOIN Class JOIN Location JOIN Time \n",
    "            ON Class_id = Class.id AND Location_id = Location.id AND Time_id = Time.id\n",
    "            WHERE Instructor = ? AND Days != ?''', ('C. SAGHAFI','F'))\n",
    "cur.fetchall()"
   ]
  },
  {
   "cell_type": "code",
   "execution_count": 14,
   "id": "e344c714",
   "metadata": {},
   "outputs": [],
   "source": [
    "con.close()"
   ]
  },
  {
   "cell_type": "code",
   "execution_count": null,
   "id": "db23eb09",
   "metadata": {},
   "outputs": [],
   "source": []
  }
 ],
 "metadata": {
  "kernelspec": {
   "display_name": "Python 3 (ipykernel)",
   "language": "python",
   "name": "python3"
  },
  "language_info": {
   "codemirror_mode": {
    "name": "ipython",
    "version": 3
   },
   "file_extension": ".py",
   "mimetype": "text/x-python",
   "name": "python",
   "nbconvert_exporter": "python",
   "pygments_lexer": "ipython3",
   "version": "3.8.10"
  }
 },
 "nbformat": 4,
 "nbformat_minor": 5
}
