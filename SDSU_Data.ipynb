{
 "cells": [
  {
   "cell_type": "markdown",
   "id": "6ee289aa-004c-4747-8e17-7c11ac204ff1",
   "metadata": {},
   "source": [
    "# SDSU Data"
   ]
  },
  {
   "cell_type": "code",
   "execution_count": 1,
   "id": "05438f15-da58-495d-9c1a-99bae66ec2bc",
   "metadata": {},
   "outputs": [],
   "source": [
    "import numpy as np\n",
    "import pandas as pd\n",
    "import sqlite3"
   ]
  },
  {
   "cell_type": "code",
   "execution_count": 2,
   "id": "f4e98aa5-7c3e-48ac-b778-6b10f7791cad",
   "metadata": {},
   "outputs": [],
   "source": [
    "df = pd.read_excel(io='SDSU_mech_eng_classes.xlsx', header=1)"
   ]
  },
  {
   "cell_type": "code",
   "execution_count": 3,
   "id": "ae55e4f5",
   "metadata": {},
   "outputs": [
    {
     "name": "stdout",
     "output_type": "stream",
     "text": [
      "<class 'pandas.core.frame.DataFrame'>\n",
      "RangeIndex: 96 entries, 0 to 95\n",
      "Data columns (total 26 columns):\n",
      " #   Column          Non-Null Count  Dtype  \n",
      "---  ------          --------------  -----  \n",
      " 0   Department      96 non-null     object \n",
      " 1   Subject         96 non-null     object \n",
      " 2   Course #        96 non-null     int64  \n",
      " 3   Suffix          13 non-null     object \n",
      " 4   Catalog #       0 non-null      float64\n",
      " 5   Title           96 non-null     object \n",
      " 6   Section         96 non-null     int64  \n",
      " 7   Schedule #      96 non-null     object \n",
      " 8   Units           96 non-null     int64  \n",
      " 9   Session         96 non-null     object \n",
      " 10  Seats           96 non-null     int64  \n",
      " 11  Available       96 non-null     int64  \n",
      " 12  Total Enrolled  96 non-null     int64  \n",
      " 13  Blocked         0 non-null      float64\n",
      " 14  Footnotes       89 non-null     object \n",
      " 15  SDSU Enrolled   0 non-null      float64\n",
      " 16  EE Enrolled     0 non-null      float64\n",
      " 17  SDSU Audit      0 non-null      float64\n",
      " 18  EE Audit        0 non-null      float64\n",
      " 19  Meeting Type    96 non-null     object \n",
      " 20  Building        84 non-null     object \n",
      " 21  Room            84 non-null     float64\n",
      " 22  Start Time      84 non-null     float64\n",
      " 23  End Time        84 non-null     float64\n",
      " 24  Days            96 non-null     object \n",
      " 25  Instructor      96 non-null     object \n",
      "dtypes: float64(9), int64(6), object(11)\n",
      "memory usage: 19.6+ KB\n",
      "None\n"
     ]
    }
   ],
   "source": [
    "print(df.info())"
   ]
  },
  {
   "cell_type": "code",
   "execution_count": 4,
   "id": "b260df52",
   "metadata": {},
   "outputs": [
    {
     "name": "stdout",
     "output_type": "stream",
     "text": [
      "<class 'pandas.core.frame.DataFrame'>\n",
      "RangeIndex: 96 entries, 0 to 95\n",
      "Data columns (total 20 columns):\n",
      " #   Column          Non-Null Count  Dtype  \n",
      "---  ------          --------------  -----  \n",
      " 0   Department      96 non-null     object \n",
      " 1   Subject         96 non-null     object \n",
      " 2   Course #        96 non-null     int64  \n",
      " 3   Suffix          13 non-null     object \n",
      " 4   Title           96 non-null     object \n",
      " 5   Section         96 non-null     int64  \n",
      " 6   Schedule #      96 non-null     object \n",
      " 7   Units           96 non-null     int64  \n",
      " 8   Session         96 non-null     object \n",
      " 9   Seats           96 non-null     int64  \n",
      " 10  Available       96 non-null     int64  \n",
      " 11  Total Enrolled  96 non-null     int64  \n",
      " 12  Footnotes       89 non-null     object \n",
      " 13  Meeting Type    96 non-null     object \n",
      " 14  Building        84 non-null     object \n",
      " 15  Room            84 non-null     float64\n",
      " 16  Start Time      84 non-null     float64\n",
      " 17  End Time        84 non-null     float64\n",
      " 18  Days            96 non-null     object \n",
      " 19  Instructor      96 non-null     object \n",
      "dtypes: float64(3), int64(6), object(11)\n",
      "memory usage: 15.1+ KB\n",
      "None\n"
     ]
    }
   ],
   "source": [
    "df = df.drop(['Catalog #', 'Blocked', 'SDSU Enrolled', 'EE Enrolled', 'SDSU Audit', 'EE Audit'], axis=1)\n",
    "print(df.info())"
   ]
  },
  {
   "cell_type": "markdown",
   "id": "6d546c59",
   "metadata": {},
   "source": [
    "Convert to special Int64 type because there are null values in the columns. (pandas nullable integrer data type)"
   ]
  },
  {
   "cell_type": "code",
   "execution_count": 5,
   "id": "b48d2447",
   "metadata": {},
   "outputs": [],
   "source": [
    "# df['Room'] = df['Room'].astype('Int64')\n",
    "# df['Start Time'] = df['Start Time'].astype('Int64')\n",
    "# df['End Time'] = df['End Time'].astype('Int64')\n",
    "# print(df.info())"
   ]
  },
  {
   "cell_type": "code",
   "execution_count": 6,
   "id": "f85b92d5",
   "metadata": {
    "scrolled": true
   },
   "outputs": [],
   "source": [
    "# df['Course #'] = df['Course #'].astype('int32')"
   ]
  },
  {
   "cell_type": "code",
   "execution_count": 7,
   "id": "d19cb38d",
   "metadata": {},
   "outputs": [],
   "source": [
    "# print(df.iloc[0])\n",
    "# print(df.iloc[0]['Subject'])\n",
    "# print(df.iloc[0][1])\n",
    "# print(tuple(df.iloc[0].to_list()))"
   ]
  },
  {
   "cell_type": "code",
   "execution_count": null,
   "id": "0e5cd561",
   "metadata": {},
   "outputs": [],
   "source": []
  },
  {
   "cell_type": "code",
   "execution_count": 8,
   "id": "1896c151",
   "metadata": {},
   "outputs": [],
   "source": [
    "sqlite3.register_adapter(np.int64, lambda val: int(val))\n",
    "# sqlite3.register_adapter(np.int32, lambda val: int(val))"
   ]
  },
  {
   "cell_type": "code",
   "execution_count": null,
   "id": "727457ac",
   "metadata": {},
   "outputs": [],
   "source": []
  },
  {
   "cell_type": "code",
   "execution_count": 9,
   "id": "8886edea",
   "metadata": {},
   "outputs": [],
   "source": [
    "con = sqlite3.connect(\"SDSU_mech_eng_classes.sqlite\")"
   ]
  },
  {
   "cell_type": "code",
   "execution_count": 10,
   "id": "0cf1a5d3",
   "metadata": {},
   "outputs": [],
   "source": [
    "cur = con.cursor()"
   ]
  },
  {
   "cell_type": "code",
   "execution_count": 11,
   "id": "2d79ac22",
   "metadata": {},
   "outputs": [
    {
     "data": {
      "text/plain": [
       "<sqlite3.Cursor at 0x105a40a0>"
      ]
     },
     "execution_count": 11,
     "metadata": {},
     "output_type": "execute_result"
    }
   ],
   "source": [
    "cur.execute('DROP TABLE IF EXISTS Classes')\n",
    "cur.execute('''CREATE TABLE Classes \n",
    "            (Department TEXT, Subject TEXT, CourseNum INTEGER, Suffix TEXT, Title TEXT, Section INTEGER, ScheduleNum TEXT, \n",
    "            Units INTEGER, Session TEXT, Seats INTEGER, Available INTEGER, TotalEnrolled INTEGER, Footnotes TEXT, \n",
    "            MeetingType TEXT, Building TEXT, Room INTEGER, StartTime INTEGER, EndTime INTEGER, Days TEXT, Instructor TEXT)''')\n"
   ]
  },
  {
   "cell_type": "code",
   "execution_count": 12,
   "id": "06ab0033",
   "metadata": {},
   "outputs": [],
   "source": [
    "for i in range(len(df)):\n",
    "    cur.execute('''INSERT INTO Classes\n",
    "                    VALUES (?,?,?,?,?,?,?,?,?,?,?,?,?,?,?,?,?,?,?,?)''', tuple(df.iloc[i].to_list()))\n",
    "       \n",
    "con.commit()"
   ]
  },
  {
   "cell_type": "markdown",
   "id": "b965b3db-b7fd-4731-a116-617ec95d03be",
   "metadata": {},
   "source": [
    "Counting how many classes are fully filled up with 0 seats remaining, and how many classes are still available."
   ]
  },
  {
   "cell_type": "code",
   "execution_count": 13,
   "id": "88100ecb-7a61-4ee9-ae01-56bdc61dae97",
   "metadata": {},
   "outputs": [
    {
     "name": "stdout",
     "output_type": "stream",
     "text": [
      "There are 27 classes that are fully filled.\n",
      "There are 69 classes that are still available.\n"
     ]
    }
   ],
   "source": [
    "cur.execute('SELECT COUNT(*) FROM Classes WHERE Available <= 0')\n",
    "x = cur.fetchall()\n",
    "print('There are ' + str(x[0][0]) + ' classes that are fully filled.')\n",
    "cur.execute('SELECT COUNT(*) FROM Classes WHERE Available > 0')\n",
    "x = cur.fetchall()\n",
    "print('There are ' + str(x[0][0]) + ' classes that are still available.')"
   ]
  },
  {
   "cell_type": "markdown",
   "id": "d817ec24-997a-4215-83e1-4d0df1ff55df",
   "metadata": {},
   "source": [
    "Lets remove all of the classes that are fully filled since we can't enroll in them."
   ]
  },
  {
   "cell_type": "code",
   "execution_count": 14,
   "id": "9e772dc4-8f87-49a2-9202-c16f4fae7f00",
   "metadata": {},
   "outputs": [],
   "source": [
    "cur.execute('DELETE FROM Classes WHERE Available <= 0')\n",
    "con.commit()"
   ]
  },
  {
   "cell_type": "markdown",
   "id": "835d34b4-bb24-47e6-9e52-a8287f065335",
   "metadata": {},
   "source": [
    "Maybe you want your early class (9AM or earlier) to be at building E which is closest to you."
   ]
  },
  {
   "cell_type": "code",
   "execution_count": 21,
   "id": "2ae68329-ccf9-4dfd-906b-18494bf83fc2",
   "metadata": {},
   "outputs": [
    {
     "data": {
      "text/plain": [
       "[('COMPUTER-AIDED DESIGN', 800),\n",
       " ('COMPUTER-AIDED DESIGN', 900),\n",
       " ('COMPUTER-AIDED DESIGN', 800),\n",
       " ('COMPUTER-AIDED DESIGN', 800),\n",
       " ('COMPUTER-AIDED DESIGN', 900),\n",
       " ('MECHATRONICS LABORATORY', 800),\n",
       " ('ENRGY& THRM SYS ANAL/DSGN', 800),\n",
       " ('FUNDAMENTALS OF NANOBIO', 800)]"
      ]
     },
     "execution_count": 21,
     "metadata": {},
     "output_type": "execute_result"
    }
   ],
   "source": [
    "cur.execute('SELECT Title, StartTime FROM Classes WHERE StartTime <= 900 AND Building = ?', ('E',))\n",
    "cur.fetchall()"
   ]
  },
  {
   "cell_type": "markdown",
   "id": "747e5e3e-ddf6-4651-8cb7-6d8143511ec2",
   "metadata": {},
   "source": [
    "Or if you want to see all the classes that your favorite teacher C. SAGHAFI is teaching that aren't on Fridays."
   ]
  },
  {
   "cell_type": "code",
   "execution_count": 22,
   "id": "f8257a9b-1a1f-43cb-be6a-8081835ea80b",
   "metadata": {},
   "outputs": [
    {
     "data": {
      "text/plain": [
       "[('COMPUTER-AIDED DESIGN', 'C. SAGHAFI', 'M'),\n",
       " ('COMPUTER-AIDED DESIGN', 'C. SAGHAFI', 'M'),\n",
       " ('COMPUTER-AIDED DESIGN', 'C. SAGHAFI', 'W'),\n",
       " ('COMPUTER-AIDED DESIGN', 'C. SAGHAFI', 'W'),\n",
       " ('COMPUTER-AIDED DESIGN', 'C. SAGHAFI', 'M'),\n",
       " ('COMPUTER-AIDED DESIGN', 'C. SAGHAFI', 'M')]"
      ]
     },
     "execution_count": 22,
     "metadata": {},
     "output_type": "execute_result"
    }
   ],
   "source": [
    "cur.execute('SELECT Title, Instructor, Days FROM Classes WHERE Instructor = ? AND Days != ?', ('C. SAGHAFI','F'))\n",
    "cur.fetchall()"
   ]
  },
  {
   "cell_type": "code",
   "execution_count": null,
   "id": "9bbc1344-1faa-41f1-8bfc-dc3b77b1b7cd",
   "metadata": {},
   "outputs": [],
   "source": []
  },
  {
   "cell_type": "code",
   "execution_count": null,
   "id": "7cdfab0b-e3aa-4828-ad13-310c26abb53d",
   "metadata": {},
   "outputs": [],
   "source": []
  },
  {
   "cell_type": "code",
   "execution_count": 15,
   "id": "e344c714",
   "metadata": {},
   "outputs": [],
   "source": [
    "# con.close()"
   ]
  }
 ],
 "metadata": {
  "kernelspec": {
   "display_name": "Python 3 (ipykernel)",
   "language": "python",
   "name": "python3"
  },
  "language_info": {
   "codemirror_mode": {
    "name": "ipython",
    "version": 3
   },
   "file_extension": ".py",
   "mimetype": "text/x-python",
   "name": "python",
   "nbconvert_exporter": "python",
   "pygments_lexer": "ipython3",
   "version": "3.8.10"
  }
 },
 "nbformat": 4,
 "nbformat_minor": 5
}
